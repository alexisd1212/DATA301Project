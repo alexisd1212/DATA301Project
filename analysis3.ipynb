{
 "cells": [
  {
   "cell_type": "code",
   "execution_count": 44,
   "id": "fcbb9539",
   "metadata": {},
   "outputs": [
    {
     "name": "stdout",
     "output_type": "stream",
     "text": [
      "         ID  MONTHS_BALANCE STATUS\n",
      "0   5001711               0      X\n",
      "1   5001711              -1      0\n",
      "2   5001711              -2      0\n",
      "3   5001711              -3      0\n",
      "4   5001712               0      C\n",
      "..      ...             ...    ...\n",
      "95  5001715             -35      X\n",
      "96  5001715             -36      X\n",
      "97  5001715             -37      X\n",
      "98  5001715             -38      X\n",
      "99  5001715             -39      X\n",
      "\n",
      "[100 rows x 3 columns]\n"
     ]
    }
   ],
   "source": [
    "import pandas as pd\n",
    "# a= eval(r.content) Never user eval for online texts\n",
    "df = pd.read_csv('./Downloads/credit_record.csv.zip')\n",
    "\n",
    "#application_record.head\n",
    "print(df.head(100))"
   ]
  }
 ],
 "metadata": {
  "kernelspec": {
   "display_name": "Python 3 (ipykernel)",
   "language": "python",
   "name": "python3"
  },
  "language_info": {
   "codemirror_mode": {
    "name": "ipython",
    "version": 3
   },
   "file_extension": ".py",
   "mimetype": "text/x-python",
   "name": "python",
   "nbconvert_exporter": "python",
   "pygments_lexer": "ipython3",
   "version": "3.9.5"
  }
 },
 "nbformat": 4,
 "nbformat_minor": 5
}
