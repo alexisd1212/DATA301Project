{
 "cells": [
  {
   "cell_type": "markdown",
   "metadata": {},
   "source": [
    "# Benjamin Li"
   ]
  },
  {
   "cell_type": "markdown",
   "metadata": {},
   "source": [
    "## Research question/interests\r\n",
    "\r\n",
    "I want to work with this dataset to better understand the importance of credit cards and it's role in understanding the finance industry. Is It important to know your own credit score?."
   ]
  },
  {
   "cell_type": "code",
   "execution_count": 13,
   "metadata": {},
   "outputs": [
    {
     "name": "stdout",
     "output_type": "stream",
     "text": [
      "          ID  MONTHS_BALANCE STATUS\n",
      "0    5001711               0      X\n",
      "1    5001711              -1      0\n",
      "2    5001711              -2      0\n",
      "3    5001711              -3      0\n",
      "4    5001712               0      C\n",
      "..       ...             ...    ...\n",
      "995  5001759             -12      0\n",
      "996  5001759             -13      0\n",
      "997  5001759             -14      0\n",
      "998  5001759             -15      0\n",
      "999  5001759             -16      0\n",
      "\n",
      "[1000 rows x 3 columns]\n"
     ]
    }
   ],
   "source": [
    "\n",
    "\n",
    "import pandas as pd\n",
    "# a= eval(r.content) Never user eval for online texts\n",
    "df = pd.read_csv('../data/raw/credit_record.csv.zip')\n",
    "\n",
    "#application_record.head\n",
    "print(df.head(1000))"
   ]
  },
  {
   "cell_type": "code",
   "execution_count": null,
   "metadata": {},
   "outputs": [],
   "source": []
  }
 ],
 "metadata": {
  "kernelspec": {
   "display_name": "Python 3",
   "language": "python",
   "name": "python3"
  },
  "language_info": {
   "codemirror_mode": {
    "name": "ipython",
    "version": 3
   },
   "file_extension": ".py",
   "mimetype": "text/x-python",
   "name": "python",
   "nbconvert_exporter": "python",
   "pygments_lexer": "ipython3",
   "version": "3.9.5"
  }
 },
 "nbformat": 4,
 "nbformat_minor": 4
}
